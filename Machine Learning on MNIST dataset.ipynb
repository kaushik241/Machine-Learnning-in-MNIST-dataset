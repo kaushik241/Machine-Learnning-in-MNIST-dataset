{
  "nbformat": 4,
  "nbformat_minor": 0,
  "metadata": {
    "colab": {
      "provenance": []
    },
    "kernelspec": {
      "name": "python3",
      "display_name": "Python 3"
    },
    "language_info": {
      "name": "python"
    },
    "accelerator": "GPU",
    "gpuClass": "standard"
  },
  "cells": [
    {
      "cell_type": "markdown",
      "source": [
        "# Kaushik Sanghani Task 1 Submission\n",
        "\n",
        "### Notes:\n",
        "\n",
        "\n",
        "1.   See the results of all models in pandas dataframe at the end\n",
        "\n"
      ],
      "metadata": {
        "id": "1lUN1Su6-Ya8"
      }
    },
    {
      "cell_type": "code",
      "source": [
        "import pandas as pd \n",
        "import numpy as np"
      ],
      "metadata": {
        "id": "F0nT2Hdd-V8o"
      },
      "execution_count": null,
      "outputs": []
    },
    {
      "cell_type": "code",
      "source": [
        "#downloading minst dataset from keras\n",
        "from keras.datasets import mnist"
      ],
      "metadata": {
        "id": "5HKlRWntbMoh"
      },
      "execution_count": 3,
      "outputs": []
    },
    {
      "cell_type": "code",
      "source": [
        "#Loading the mnist dataset and splitting the datset in training and testing\n",
        "(X_train, y_train), (X_test, y_test) = mnist.load_data()"
      ],
      "metadata": {
        "colab": {
          "base_uri": "https://localhost:8080/"
        },
        "id": "Nm7x_BlWbjLV",
        "outputId": "6b4eab79-24fb-421e-ade1-510a80ae6516"
      },
      "execution_count": 4,
      "outputs": [
        {
          "output_type": "stream",
          "name": "stdout",
          "text": [
            "Downloading data from https://storage.googleapis.com/tensorflow/tf-keras-datasets/mnist.npz\n",
            "11490434/11490434 [==============================] - 2s 0us/step\n"
          ]
        }
      ]
    },
    {
      "cell_type": "code",
      "source": [
        "#Shape of the dataset\n",
        "#Shape of train dataset\n",
        "X_train.shape"
      ],
      "metadata": {
        "colab": {
          "base_uri": "https://localhost:8080/"
        },
        "id": "BVA92mRVc3bB",
        "outputId": "3770cf75-95af-4902-e427-9c7490efd707"
      },
      "execution_count": 5,
      "outputs": [
        {
          "output_type": "execute_result",
          "data": {
            "text/plain": [
              "(60000, 28, 28)"
            ]
          },
          "metadata": {},
          "execution_count": 5
        }
      ]
    },
    {
      "cell_type": "code",
      "source": [
        "#Shape of test datset\n",
        "X_test.shape"
      ],
      "metadata": {
        "colab": {
          "base_uri": "https://localhost:8080/"
        },
        "id": "T6PYd42sc3dF",
        "outputId": "5a7f006b-5723-4c01-b038-034b6b64072a"
      },
      "execution_count": 6,
      "outputs": [
        {
          "output_type": "execute_result",
          "data": {
            "text/plain": [
              "(10000, 28, 28)"
            ]
          },
          "metadata": {},
          "execution_count": 6
        }
      ]
    },
    {
      "cell_type": "markdown",
      "source": [
        "Above in train dataset we are having 60000 handwritten digits each having shape of 28 by 28 and in the test datset we are having 10000 handwritten digits each having shape of 28 by 28"
      ],
      "metadata": {
        "id": "sV_A8J9Od77P"
      }
    },
    {
      "cell_type": "code",
      "source": [
        "#importing matplotlib to visulize the datset\n",
        "import matplotlib.pyplot as plt "
      ],
      "metadata": {
        "id": "YFqp2VyGb2fa"
      },
      "execution_count": 7,
      "outputs": []
    },
    {
      "cell_type": "code",
      "source": [
        "#Visulizing the dataset\n",
        "plt.imshow(X_train[0])\n",
        "print(y_train[0])"
      ],
      "metadata": {
        "colab": {
          "base_uri": "https://localhost:8080/",
          "height": 282
        },
        "id": "hEbqHnSocMau",
        "outputId": "6dd78bd4-a6ad-4ebb-b1d8-55f5abc93e73"
      },
      "execution_count": null,
      "outputs": [
        {
          "output_type": "stream",
          "name": "stdout",
          "text": [
            "5\n"
          ]
        },
        {
          "output_type": "display_data",
          "data": {
            "text/plain": [
              "<Figure size 432x288 with 1 Axes>"
            ],
            "image/png": "[encoded data removed]"
          },
          "metadata": {
            "needs_background": "light"
          }
        }
      ]
    },
    {
      "cell_type": "code",
      "source": [
        "X_train[0].max()"
      ],
      "metadata": {
        "colab": {
          "base_uri": "https://localhost:8080/"
        },
        "id": "9LqNkI2Aewjj",
        "outputId": "6e784746-e426-4033-e2d1-4ce91bfaf930"
      },
      "execution_count": null,
      "outputs": [
        {
          "output_type": "execute_result",
          "data": {
            "text/plain": [
              "255"
            ]
          },
          "metadata": {},
          "execution_count": 8
        }
      ]
    },
    {
      "cell_type": "code",
      "source": [
        "#So maximum pixle value in one image is 255 so we can divide each pixle value with 255\n",
        "#So doing feaure scaling\n",
        "\n",
        "X_train = X_train/255\n",
        "X_test = X_test/255"
      ],
      "metadata": {
        "id": "GBRxb4b6fFGG"
      },
      "execution_count": 8,
      "outputs": []
    },
    {
      "cell_type": "markdown",
      "source": [
        "## Logistic Regression\n",
        "\n"
      ],
      "metadata": {
        "id": "M_GJHoYjbKS-"
      }
    },
    {
      "cell_type": "code",
      "source": [
        "from sklearn.linear_model import LogisticRegression"
      ],
      "metadata": {
        "id": "X-QYrYncf29q"
      },
      "execution_count": 9,
      "outputs": []
    },
    {
      "cell_type": "markdown",
      "source": [
        "### Without Regularization"
      ],
      "metadata": {
        "id": "yji0hcZxbT2e"
      }
    },
    {
      "cell_type": "markdown",
      "source": [
        "https://scikit-learn.org/stable/modules/generated/sklearn.linear_model.LogisticRegression.html"
      ],
      "metadata": {
        "id": "j46xG6vkkEiv"
      }
    },
    {
      "cell_type": "code",
      "source": [
        "#Initialization of logistic regression with no penalty, loss function as cross entropy and solver as saga\n",
        "#Here the loss function is cross entropy if we use multi_class = \"multinomial\"\n",
        "logistic_regr = LogisticRegression(penalty = \"none\",multi_class = \"multinomial\",solver = \"saga\")"
      ],
      "metadata": {
        "id": "r9ZSH9-NbPk1"
      },
      "execution_count": null,
      "outputs": []
    },
    {
      "cell_type": "markdown",
      "source": [
        "https://stackoverflow.com/questions/34972142/sklearn-logistic-regression-valueerror-found-array-with-dim-3-estimator-expec"
      ],
      "metadata": {
        "id": "eQ0fyZl2eq0w"
      }
    },
    {
      "cell_type": "code",
      "source": [
        "#Converting 3d array into 2d array\n",
        "nsamples, nx, ny = X_train.shape\n",
        "d2_X_train = X_train.reshape((nsamples,nx*ny))\n",
        "\n",
        "nsamples, nx, ny = X_test.shape\n",
        "d2_X_test = X_test.reshape((nsamples,nx*ny))"
      ],
      "metadata": {
        "id": "9_ZEfIxRc4WX"
      },
      "execution_count": 10,
      "outputs": []
    },
    {
      "cell_type": "code",
      "source": [
        "#Training the the logistic regression model\n",
        "logistic_regr.fit(d2_X_train, y_train)"
      ],
      "metadata": {
        "colab": {
          "base_uri": "https://localhost:8080/"
        },
        "id": "vUbv_6ikdCyO",
        "outputId": "7e3af7db-7698-4c29-c501-5cfac34de75b"
      },
      "execution_count": null,
      "outputs": [
        {
          "output_type": "stream",
          "name": "stderr",
          "text": [
            "/usr/local/lib/python3.7/dist-packages/sklearn/linear_model/_sag.py:354: ConvergenceWarning: The max_iter was reached which means the coef_ did not converge\n",
            "  ConvergenceWarning,\n"
          ]
        },
        {
          "output_type": "execute_result",
          "data": {
            "text/plain": [
              "LogisticRegression(multi_class='multinomial', penalty='none', solver='saga')"
            ]
          },
          "metadata": {},
          "execution_count": 13
        }
      ]
    },
    {
      "cell_type": "code",
      "source": [
        "#Predicting the output with the model\n",
        "predictions = logistic_regr.predict(d2_X_test)"
      ],
      "metadata": {
        "id": "Zo6HVD02deVF"
      },
      "execution_count": null,
      "outputs": []
    },
    {
      "cell_type": "code",
      "source": [
        "from sklearn.metrics import plot_confusion_matrix"
      ],
      "metadata": {
        "id": "BJneHxYkhYYi"
      },
      "execution_count": null,
      "outputs": []
    },
    {
      "cell_type": "code",
      "source": [
        "#Plotting the confusion matrix\n",
        "plot_confusion_matrix(logistic_regr, d2_X_test, y_test)  \n",
        "plt.show()"
      ],
      "metadata": {
        "colab": {
          "base_uri": "https://localhost:8080/",
          "height": 334
        },
        "id": "29Pdqx5ZhaFM",
        "outputId": "00d8c556-55da-4659-f060-de0acafece69"
      },
      "execution_count": null,
      "outputs": [
        {
          "output_type": "stream",
          "name": "stderr",
          "text": [
            "/usr/local/lib/python3.7/dist-packages/sklearn/utils/deprecation.py:87: FutureWarning: Function plot_confusion_matrix is deprecated; Function `plot_confusion_matrix` is deprecated in 1.0 and will be removed in 1.2. Use one of the class methods: ConfusionMatrixDisplay.from_predictions or ConfusionMatrixDisplay.from_estimator.\n",
            "  warnings.warn(msg, category=FutureWarning)\n"
          ]
        },
        {
          "output_type": "display_data",
          "data": {
            "text/plain": [
              "<Figure size 432x288 with 2 Axes>"
            ],
            "image/png": "[encoded data removed]"
          },
          "metadata": {
            "needs_background": "light"
          }
        }
      ]
    },
    {
      "cell_type": "code",
      "source": [
        "from sklearn.metrics import f1_score"
      ],
      "metadata": {
        "id": "yH8PZOA1h6kO"
      },
      "execution_count": 19,
      "outputs": []
    },
    {
      "cell_type": "code",
      "source": [
        "#Calculating F1 score\n",
        "f1_score_ = f1_score(y_test, predictions, average = \"micro\")\n",
        "f1_score_"
      ],
      "metadata": {
        "colab": {
          "base_uri": "https://localhost:8080/"
        },
        "id": "kAHR4eRgiRDV",
        "outputId": "8974dba2-80d4-40a6-e197-9f7003f39747"
      },
      "execution_count": null,
      "outputs": [
        {
          "output_type": "execute_result",
          "data": {
            "text/plain": [
              "0.9261999999999999"
            ]
          },
          "metadata": {},
          "execution_count": 18
        }
      ]
    },
    {
      "cell_type": "code",
      "source": [
        "from sklearn.metrics import mean_squared_error"
      ],
      "metadata": {
        "id": "iSUC2qnUid6w"
      },
      "execution_count": 20,
      "outputs": []
    },
    {
      "cell_type": "code",
      "source": [
        "#Calculating RMSE value\n",
        "rmse = mean_squared_error(y_test, predictions,squared=False)\n",
        "rmse "
      ],
      "metadata": {
        "colab": {
          "base_uri": "https://localhost:8080/"
        },
        "id": "rm0M5KJljMNC",
        "outputId": "8c462604-2068-4964-bfa3-d6b9ee48938d"
      },
      "execution_count": null,
      "outputs": [
        {
          "output_type": "execute_result",
          "data": {
            "text/plain": [
              "1.1193748255164575"
            ]
          },
          "metadata": {},
          "execution_count": 20
        }
      ]
    },
    {
      "cell_type": "markdown",
      "source": [
        "### With L1 Regularization"
      ],
      "metadata": {
        "id": "FKmEy9LUkoUY"
      }
    },
    {
      "cell_type": "code",
      "source": [
        "#Initialization of logistic regression with L1, loss function as cross entropy and solver as saga\n",
        "#Here the loss function is cross entropy if we use multi_class = \"multinomial\"\n",
        "logistic_regr_l1 = LogisticRegression(penalty = \"l1\",multi_class = \"multinomial\",solver = \"saga\")"
      ],
      "metadata": {
        "id": "UPVI8dFFjb7w"
      },
      "execution_count": null,
      "outputs": []
    },
    {
      "cell_type": "code",
      "source": [
        "#Training the the logistic regression model\n",
        "logistic_regr_l1.fit(d2_X_train, y_train)"
      ],
      "metadata": {
        "colab": {
          "base_uri": "https://localhost:8080/"
        },
        "id": "bH84zMaTlCM9",
        "outputId": "6aba3fcd-db30-4582-c784-71dd527722bd"
      },
      "execution_count": null,
      "outputs": [
        {
          "output_type": "stream",
          "name": "stderr",
          "text": [
            "/usr/local/lib/python3.7/dist-packages/sklearn/linear_model/_sag.py:354: ConvergenceWarning: The max_iter was reached which means the coef_ did not converge\n",
            "  ConvergenceWarning,\n"
          ]
        },
        {
          "output_type": "execute_result",
          "data": {
            "text/plain": [
              "LogisticRegression(multi_class='multinomial', penalty='l1', solver='saga')"
            ]
          },
          "metadata": {},
          "execution_count": 22
        }
      ]
    },
    {
      "cell_type": "code",
      "source": [
        "#Predicting the output with the model\n",
        "predictions = logistic_regr_l1.predict(d2_X_test)"
      ],
      "metadata": {
        "id": "6EGQTd0mlJs9"
      },
      "execution_count": null,
      "outputs": []
    },
    {
      "cell_type": "code",
      "source": [
        "#Plotting the confusion matrix\n",
        "plot_confusion_matrix(logistic_regr_l1, d2_X_test, y_test)  \n",
        "plt.show()"
      ],
      "metadata": {
        "colab": {
          "base_uri": "https://localhost:8080/",
          "height": 334
        },
        "id": "7HxLo8nGlOJz",
        "outputId": "d2a9a58c-4608-4870-8138-658e40e17939"
      },
      "execution_count": null,
      "outputs": [
        {
          "output_type": "stream",
          "name": "stderr",
          "text": [
            "/usr/local/lib/python3.7/dist-packages/sklearn/utils/deprecation.py:87: FutureWarning: Function plot_confusion_matrix is deprecated; Function `plot_confusion_matrix` is deprecated in 1.0 and will be removed in 1.2. Use one of the class methods: ConfusionMatrixDisplay.from_predictions or ConfusionMatrixDisplay.from_estimator.\n",
            "  warnings.warn(msg, category=FutureWarning)\n"
          ]
        },
        {
          "output_type": "display_data",
          "data": {
            "text/plain": [
              "<Figure size 432x288 with 2 Axes>"
            ],
            "image/png": "[encoded data removed]"
          },
          "metadata": {
            "needs_background": "light"
          }
        }
      ]
    },
    {
      "cell_type": "code",
      "source": [
        "f1_score_ = f1_score(y_test, predictions, average = \"micro\")\n",
        "f1_score_"
      ],
      "metadata": {
        "colab": {
          "base_uri": "https://localhost:8080/"
        },
        "id": "V_F4rvgAlORV",
        "outputId": "86357b95-63ad-4359-fae2-671d207762b6"
      },
      "execution_count": null,
      "outputs": [
        {
          "output_type": "execute_result",
          "data": {
            "text/plain": [
              "0.9271"
            ]
          },
          "metadata": {},
          "execution_count": 26
        }
      ]
    },
    {
      "cell_type": "code",
      "source": [
        "rmse = mean_squared_error(y_test, predictions,squared=False)\n",
        "rmse "
      ],
      "metadata": {
        "colab": {
          "base_uri": "https://localhost:8080/"
        },
        "id": "6ILxbhvWlOU7",
        "outputId": "3da4304b-03f1-4cd6-d7d7-e95e4fc80ddd"
      },
      "execution_count": null,
      "outputs": [
        {
          "output_type": "execute_result",
          "data": {
            "text/plain": [
              "1.130751962191532"
            ]
          },
          "metadata": {},
          "execution_count": 27
        }
      ]
    },
    {
      "cell_type": "markdown",
      "source": [
        "### With L2 Regularization"
      ],
      "metadata": {
        "id": "1016jEamlenO"
      }
    },
    {
      "cell_type": "code",
      "source": [
        "#Initialization of logistic regression with L2, loss function as cross entropy and solver as saga\n",
        "#Here the loss function is cross entropy if we use multi_class = \"multinomial\"\n",
        "logistic_regr_l2 = LogisticRegression(penalty = \"l2\",multi_class = \"multinomial\",solver = \"saga\")"
      ],
      "metadata": {
        "id": "2fHwkmEplhe1"
      },
      "execution_count": null,
      "outputs": []
    },
    {
      "cell_type": "code",
      "source": [
        "#Training the the logistic regression model\n",
        "logistic_regr_l2.fit(d2_X_train, y_train)"
      ],
      "metadata": {
        "colab": {
          "base_uri": "https://localhost:8080/"
        },
        "id": "YUhyBPNqlltu",
        "outputId": "5caad52c-1a1f-428d-b24c-26b229faddc1"
      },
      "execution_count": null,
      "outputs": [
        {
          "output_type": "stream",
          "name": "stderr",
          "text": [
            "/usr/local/lib/python3.7/dist-packages/sklearn/linear_model/_sag.py:354: ConvergenceWarning: The max_iter was reached which means the coef_ did not converge\n",
            "  ConvergenceWarning,\n"
          ]
        },
        {
          "output_type": "execute_result",
          "data": {
            "text/plain": [
              "LogisticRegression(multi_class='multinomial', solver='saga')"
            ]
          },
          "metadata": {},
          "execution_count": 36
        }
      ]
    },
    {
      "cell_type": "code",
      "source": [
        "#Predicting the output with the model\n",
        "predictions = logistic_regr_l2.predict(d2_X_test)"
      ],
      "metadata": {
        "id": "Q9hPHeVJllzQ"
      },
      "execution_count": null,
      "outputs": []
    },
    {
      "cell_type": "code",
      "source": [
        "#Plotting the confusion matrix\n",
        "plot_confusion_matrix(logistic_regr_l2, d2_X_test, y_test)  \n",
        "plt.show()"
      ],
      "metadata": {
        "colab": {
          "base_uri": "https://localhost:8080/",
          "height": 334
        },
        "id": "YCwDdbjQll-L",
        "outputId": "d82d52fd-9b51-4537-ae72-da2e8a32c1b2"
      },
      "execution_count": null,
      "outputs": [
        {
          "output_type": "stream",
          "name": "stderr",
          "text": [
            "/usr/local/lib/python3.7/dist-packages/sklearn/utils/deprecation.py:87: FutureWarning: Function plot_confusion_matrix is deprecated; Function `plot_confusion_matrix` is deprecated in 1.0 and will be removed in 1.2. Use one of the class methods: ConfusionMatrixDisplay.from_predictions or ConfusionMatrixDisplay.from_estimator.\n",
            "  warnings.warn(msg, category=FutureWarning)\n"
          ]
        },
        {
          "output_type": "display_data",
          "data": {
            "text/plain": [
              "<Figure size 432x288 with 2 Axes>"
            ],
            "image/png": "[encoded data removed]"
          },
          "metadata": {
            "needs_background": "light"
          }
        }
      ]
    },
    {
      "cell_type": "code",
      "source": [
        "f1_score_ = f1_score(y_test, predictions, average = \"micro\")\n",
        "f1_score_"
      ],
      "metadata": {
        "colab": {
          "base_uri": "https://localhost:8080/"
        },
        "id": "vRstfHO0lzGv",
        "outputId": "eedde2c3-a14e-4134-91ce-f888151c73db"
      },
      "execution_count": null,
      "outputs": [
        {
          "output_type": "execute_result",
          "data": {
            "text/plain": [
              "0.9261999999999999"
            ]
          },
          "metadata": {},
          "execution_count": 39
        }
      ]
    },
    {
      "cell_type": "code",
      "source": [
        "rmse = mean_squared_error(y_test, predictions,squared=False)\n",
        "rmse "
      ],
      "metadata": {
        "colab": {
          "base_uri": "https://localhost:8080/"
        },
        "id": "pOg4XkeQlzKR",
        "outputId": "585122cb-5fd2-4b53-f413-665ffe4ea17c"
      },
      "execution_count": null,
      "outputs": [
        {
          "output_type": "execute_result",
          "data": {
            "text/plain": [
              "1.1257886124845997"
            ]
          },
          "metadata": {},
          "execution_count": 40
        }
      ]
    },
    {
      "cell_type": "code",
      "source": [
        "import gc\n",
        "import pickle\n",
        "from google.colab import drive\n",
        "drive.mount('/content/drive', force_remount=True)"
      ],
      "metadata": {
        "colab": {
          "base_uri": "https://localhost:8080/"
        },
        "id": "nEJUAU8lU1sm",
        "outputId": "2079b8ee-7e6c-4db1-9b77-651ba05c81c5"
      },
      "execution_count": null,
      "outputs": [
        {
          "output_type": "stream",
          "name": "stdout",
          "text": [
            "Mounted at /content/drive\n"
          ]
        }
      ]
    },
    {
      "cell_type": "code",
      "source": [
        "pick_insert = open('drive/My Drive/logistic_regr.pickle','wb')\n",
        "pickle.dump(logistic_regr, pick_insert)\n",
        "pick_insert.close()"
      ],
      "metadata": {
        "id": "jM970ABaU12L"
      },
      "execution_count": null,
      "outputs": []
    },
    {
      "cell_type": "code",
      "source": [
        "pick_insert = open('drive/My Drive/logistic_regr_l1.pickle','wb')\n",
        "pickle.dump(logistic_regr_l1, pick_insert)\n",
        "pick_insert.close()"
      ],
      "metadata": {
        "id": "KukQIJXBaGeB"
      },
      "execution_count": null,
      "outputs": []
    },
    {
      "cell_type": "code",
      "source": [
        "pick_insert = open('drive/My Drive/logistic_regr_l2.pickle','wb')\n",
        "pickle.dump(logistic_regr_l2, pick_insert)\n",
        "pick_insert.close()"
      ],
      "metadata": {
        "id": "7apE_x42aGtH"
      },
      "execution_count": null,
      "outputs": []
    },
    {
      "cell_type": "code",
      "source": [
        "y_test"
      ],
      "metadata": {
        "colab": {
          "base_uri": "https://localhost:8080/"
        },
        "id": "k9h4kSAtbELE",
        "outputId": "5958e439-c0c9-41c1-881a-f4ead5b0f7b0"
      },
      "execution_count": null,
      "outputs": [
        {
          "output_type": "execute_result",
          "data": {
            "text/plain": [
              "array([7, 2, 1, ..., 4, 5, 6], dtype=uint8)"
            ]
          },
          "metadata": {},
          "execution_count": 49
        }
      ]
    },
    {
      "cell_type": "code",
      "source": [
        "predictions"
      ],
      "metadata": {
        "colab": {
          "base_uri": "https://localhost:8080/"
        },
        "id": "JMV9f-CRbKeQ",
        "outputId": "e4eaaa4a-e67d-4571-ff1c-6a1cb525dfe4"
      },
      "execution_count": null,
      "outputs": [
        {
          "output_type": "execute_result",
          "data": {
            "text/plain": [
              "array([7, 2, 1, ..., 4, 5, 6], dtype=uint8)"
            ]
          },
          "metadata": {},
          "execution_count": 50
        }
      ]
    },
    {
      "cell_type": "markdown",
      "source": [
        "### Linear Regression L1 -> *Ridge*\n",
        "\n"
      ],
      "metadata": {
        "id": "iHhN_SC3mCI5"
      }
    },
    {
      "cell_type": "code",
      "source": [
        "from sklearn.linear_model import RidgeClassifier"
      ],
      "metadata": {
        "id": "mka4-Bq5mDtJ"
      },
      "execution_count": null,
      "outputs": []
    },
    {
      "cell_type": "code",
      "source": [
        "#Initializing Linear Regression\n",
        "linear_regr_ridge_classifier = RidgeClassifier(solver = \"saga\")"
      ],
      "metadata": {
        "id": "1anHmIKqoOaa"
      },
      "execution_count": null,
      "outputs": []
    },
    {
      "cell_type": "code",
      "source": [
        "#Training the model\n",
        "linear_regr_ridge_classifier.fit(d2_X_train,y_train)"
      ],
      "metadata": {
        "colab": {
          "base_uri": "https://localhost:8080/"
        },
        "id": "7-0fxrHqcUo2",
        "outputId": "a20d29b0-639d-4dc8-8816-b8fa2b317198"
      },
      "execution_count": null,
      "outputs": [
        {
          "output_type": "execute_result",
          "data": {
            "text/plain": [
              "RidgeClassifier(solver='saga')"
            ]
          },
          "metadata": {},
          "execution_count": 64
        }
      ]
    },
    {
      "cell_type": "code",
      "source": [
        "#Testing the model\n",
        "predictions = linear_regr_ridge_classifier.predict(d2_X_test)"
      ],
      "metadata": {
        "id": "_jvoZHEbcclR"
      },
      "execution_count": null,
      "outputs": []
    },
    {
      "cell_type": "code",
      "source": [
        "#Plotting the confusion matrix\n",
        "plot_confusion_matrix(linear_regr_ridge_classifier, d2_X_test, y_test)  \n",
        "plt.show()"
      ],
      "metadata": {
        "colab": {
          "base_uri": "https://localhost:8080/",
          "height": 334
        },
        "id": "bi7Fz4hTfXjb",
        "outputId": "43c27eb9-28d6-41cd-eac8-29a804c4b824"
      },
      "execution_count": null,
      "outputs": [
        {
          "output_type": "stream",
          "name": "stderr",
          "text": [
            "/usr/local/lib/python3.7/dist-packages/sklearn/utils/deprecation.py:87: FutureWarning: Function plot_confusion_matrix is deprecated; Function `plot_confusion_matrix` is deprecated in 1.0 and will be removed in 1.2. Use one of the class methods: ConfusionMatrixDisplay.from_predictions or ConfusionMatrixDisplay.from_estimator.\n",
            "  warnings.warn(msg, category=FutureWarning)\n"
          ]
        },
        {
          "output_type": "display_data",
          "data": {
            "text/plain": [
              "<Figure size 432x288 with 2 Axes>"
            ],
            "image/png": "[encoded data removed]"
          },
          "metadata": {
            "needs_background": "light"
          }
        }
      ]
    },
    {
      "cell_type": "code",
      "source": [
        "f1_score_ = f1_score(y_test, predictions, average = \"micro\")\n",
        "f1_score_"
      ],
      "metadata": {
        "colab": {
          "base_uri": "https://localhost:8080/"
        },
        "id": "7mgFo7Wpv3cL",
        "outputId": "a35d8305-0d0c-4ae1-ac6a-eb299ed3da16"
      },
      "execution_count": null,
      "outputs": [
        {
          "output_type": "execute_result",
          "data": {
            "text/plain": [
              "0.8603"
            ]
          },
          "metadata": {},
          "execution_count": 69
        }
      ]
    },
    {
      "cell_type": "code",
      "source": [
        "#Calculating RMSE for linear regression\n",
        "rmse = mean_squared_error(y_test, predictions,squared=False)\n",
        "rmse "
      ],
      "metadata": {
        "colab": {
          "base_uri": "https://localhost:8080/"
        },
        "id": "1qBJJJs6cwTL",
        "outputId": "13b14905-d062-4546-810d-b79e00286adb"
      },
      "execution_count": null,
      "outputs": [
        {
          "output_type": "execute_result",
          "data": {
            "text/plain": [
              "1.5591343752223539"
            ]
          },
          "metadata": {},
          "execution_count": 70
        }
      ]
    },
    {
      "cell_type": "code",
      "source": [
        "pick_insert = open('drive/My Drive/linear_regr_ridge_classifier.pickle','wb')\n",
        "pickle.dump(linear_regr_ridge_classifier, pick_insert)\n",
        "pick_insert.close()"
      ],
      "metadata": {
        "id": "Isx-otcnwFbB"
      },
      "execution_count": null,
      "outputs": []
    },
    {
      "cell_type": "markdown",
      "source": [
        "### Linear Support Vector Classification with *L1* Panelty"
      ],
      "metadata": {
        "id": "sUZKg2ZhqFWm"
      }
    },
    {
      "cell_type": "code",
      "source": [
        "from sklearn.svm import LinearSVC"
      ],
      "metadata": {
        "id": "ZvvAUna9qEEm"
      },
      "execution_count": null,
      "outputs": []
    },
    {
      "cell_type": "code",
      "source": [
        "linear_svc_l1 = LinearSVC(penalty = \"l1\", loss = \"squared_hinge\", multi_class = \"ovr\", dual = False)"
      ],
      "metadata": {
        "id": "7EP8SQn-c2x4"
      },
      "execution_count": null,
      "outputs": []
    },
    {
      "cell_type": "code",
      "source": [
        "#Training the model\n",
        "linear_svc_l1.fit(d2_X_train,y_train)"
      ],
      "metadata": {
        "colab": {
          "base_uri": "https://localhost:8080/"
        },
        "id": "s0nDk_kFhmA8",
        "outputId": "4a4a1314-e3bd-4b8f-bb09-d80d9d5c5827"
      },
      "execution_count": null,
      "outputs": [
        {
          "output_type": "execute_result",
          "data": {
            "text/plain": [
              "LinearSVC(dual=False, penalty='l1')"
            ]
          },
          "metadata": {},
          "execution_count": 77
        }
      ]
    },
    {
      "cell_type": "code",
      "source": [
        "#Testing the model\n",
        "predictions = linear_svc_l1.predict(d2_X_test)"
      ],
      "metadata": {
        "id": "lz7trECMw4a2"
      },
      "execution_count": null,
      "outputs": []
    },
    {
      "cell_type": "code",
      "source": [
        "#Plotting the confusion matrix\n",
        "plot_confusion_matrix(linear_svc_l1, d2_X_test, y_test)  \n",
        "plt.show()"
      ],
      "metadata": {
        "colab": {
          "base_uri": "https://localhost:8080/",
          "height": 334
        },
        "id": "oEa3G9cGymHC",
        "outputId": "4bac8e18-2e02-4977-958d-871252a9e783"
      },
      "execution_count": null,
      "outputs": [
        {
          "output_type": "stream",
          "name": "stderr",
          "text": [
            "/usr/local/lib/python3.7/dist-packages/sklearn/utils/deprecation.py:87: FutureWarning: Function plot_confusion_matrix is deprecated; Function `plot_confusion_matrix` is deprecated in 1.0 and will be removed in 1.2. Use one of the class methods: ConfusionMatrixDisplay.from_predictions or ConfusionMatrixDisplay.from_estimator.\n",
            "  warnings.warn(msg, category=FutureWarning)\n"
          ]
        },
        {
          "output_type": "display_data",
          "data": {
            "text/plain": [
              "<Figure size 432x288 with 2 Axes>"
            ],
            "image/png": "[encoded data removed]"
          },
          "metadata": {
            "needs_background": "light"
          }
        }
      ]
    },
    {
      "cell_type": "code",
      "source": [
        "f1_score_ = f1_score(y_test, predictions, average = \"micro\")\n",
        "f1_score_"
      ],
      "metadata": {
        "colab": {
          "base_uri": "https://localhost:8080/"
        },
        "id": "vXirZypCyn7E",
        "outputId": "7bed9f47-e969-4500-bc38-dd0e6ebc1263"
      },
      "execution_count": null,
      "outputs": [
        {
          "output_type": "execute_result",
          "data": {
            "text/plain": [
              "0.9183"
            ]
          },
          "metadata": {},
          "execution_count": 80
        }
      ]
    },
    {
      "cell_type": "code",
      "source": [
        "#Calculating RMSE for linear regression\n",
        "rmse = mean_squared_error(y_test, predictions,squared=False)\n",
        "rmse "
      ],
      "metadata": {
        "colab": {
          "base_uri": "https://localhost:8080/"
        },
        "id": "AYDe-4TCyqvm",
        "outputId": "dd0e2e2b-9f87-4344-dbda-9fd57a13d160"
      },
      "execution_count": null,
      "outputs": [
        {
          "output_type": "execute_result",
          "data": {
            "text/plain": [
              "1.1846096403457131"
            ]
          },
          "metadata": {},
          "execution_count": 81
        }
      ]
    },
    {
      "cell_type": "code",
      "source": [
        "pick_insert = open('drive/My Drive/linear_svc_l1.pickle','wb')\n",
        "pickle.dump(linear_svc_l1, pick_insert)\n",
        "pick_insert.close()"
      ],
      "metadata": {
        "id": "Wwk_SZ9RytGT"
      },
      "execution_count": null,
      "outputs": []
    },
    {
      "cell_type": "markdown",
      "source": [
        "### Linear Support Vector Classification with *L2* Panelty"
      ],
      "metadata": {
        "id": "ioTU3DIIy2Um"
      }
    },
    {
      "cell_type": "code",
      "source": [
        "#Inatilizing the model\n",
        "linear_svc_l2 = LinearSVC(penalty = \"l2\", loss = \"squared_hinge\", multi_class = \"ovr\", dual = False)"
      ],
      "metadata": {
        "id": "J2ub5Co1y24X"
      },
      "execution_count": null,
      "outputs": []
    },
    {
      "cell_type": "code",
      "source": [
        "#Training the model\n",
        "linear_svc_l2.fit(d2_X_train,y_train)"
      ],
      "metadata": {
        "colab": {
          "base_uri": "https://localhost:8080/"
        },
        "id": "EvpyroWmzHGA",
        "outputId": "8cdeb765-5ec7-4216-ba81-004c8100fd22"
      },
      "execution_count": null,
      "outputs": [
        {
          "output_type": "execute_result",
          "data": {
            "text/plain": [
              "LinearSVC(dual=False)"
            ]
          },
          "metadata": {},
          "execution_count": 85
        }
      ]
    },
    {
      "cell_type": "code",
      "source": [
        "#Testing the model\n",
        "predictions = linear_svc_l2.predict(d2_X_test)"
      ],
      "metadata": {
        "id": "nPrVpuYlzS46"
      },
      "execution_count": null,
      "outputs": []
    },
    {
      "cell_type": "code",
      "source": [
        "#Plotting the confusion matrix\n",
        "plot_confusion_matrix(linear_svc_l2, d2_X_test, y_test)  \n",
        "plt.show()"
      ],
      "metadata": {
        "colab": {
          "base_uri": "https://localhost:8080/",
          "height": 334
        },
        "id": "vVaLn-SezjkV",
        "outputId": "f65d0866-f3cf-4948-af20-b28a307984ca"
      },
      "execution_count": null,
      "outputs": [
        {
          "output_type": "stream",
          "name": "stderr",
          "text": [
            "/usr/local/lib/python3.7/dist-packages/sklearn/utils/deprecation.py:87: FutureWarning: Function plot_confusion_matrix is deprecated; Function `plot_confusion_matrix` is deprecated in 1.0 and will be removed in 1.2. Use one of the class methods: ConfusionMatrixDisplay.from_predictions or ConfusionMatrixDisplay.from_estimator.\n",
            "  warnings.warn(msg, category=FutureWarning)\n"
          ]
        },
        {
          "output_type": "display_data",
          "data": {
            "text/plain": [
              "<Figure size 432x288 with 2 Axes>"
            ],
            "image/png": "[encoded data removed]"
          },
          "metadata": {
            "needs_background": "light"
          }
        }
      ]
    },
    {
      "cell_type": "code",
      "source": [
        "f1_score_ = f1_score(y_test, predictions, average = \"micro\")\n",
        "f1_score_"
      ],
      "metadata": {
        "colab": {
          "base_uri": "https://localhost:8080/"
        },
        "id": "O_R2WaWDzutK",
        "outputId": "5a2bbfae-c32f-4c86-a162-fa4c98c1867b"
      },
      "execution_count": null,
      "outputs": [
        {
          "output_type": "execute_result",
          "data": {
            "text/plain": [
              "0.9185"
            ]
          },
          "metadata": {},
          "execution_count": 88
        }
      ]
    },
    {
      "cell_type": "code",
      "source": [
        "#Calculating RMSE for linear regression\n",
        "rmse = mean_squared_error(y_test, predictions,squared=False)\n",
        "rmse "
      ],
      "metadata": {
        "colab": {
          "base_uri": "https://localhost:8080/"
        },
        "id": "9OZhQY24zyAR",
        "outputId": "a6a3fd09-169f-4a05-dfff-3a9e58af3604"
      },
      "execution_count": null,
      "outputs": [
        {
          "output_type": "execute_result",
          "data": {
            "text/plain": [
              "1.1781341180018512"
            ]
          },
          "metadata": {},
          "execution_count": 89
        }
      ]
    },
    {
      "cell_type": "code",
      "source": [
        "pick_insert = open('drive/My Drive/linear_svc_l2.pickle','wb')\n",
        "pickle.dump(linear_svc_l2, pick_insert)\n",
        "pick_insert.close()"
      ],
      "metadata": {
        "id": "fGq56cgGz0e1"
      },
      "execution_count": null,
      "outputs": []
    },
    {
      "cell_type": "markdown",
      "source": [
        "## Decision Tree Classifier"
      ],
      "metadata": {
        "id": "kDvpCGoQ1B9I"
      }
    },
    {
      "cell_type": "code",
      "source": [
        "from sklearn.tree import DecisionTreeClassifier"
      ],
      "metadata": {
        "id": "8iPXZgmB0wV-"
      },
      "execution_count": null,
      "outputs": []
    },
    {
      "cell_type": "code",
      "source": [
        "decision_tree = DecisionTreeClassifier(max_depth=10, criterion = \"entropy\")"
      ],
      "metadata": {
        "id": "lafn-NQl0_Ow"
      },
      "execution_count": null,
      "outputs": []
    },
    {
      "cell_type": "code",
      "source": [
        "decision_tree.fit(d2_X_train,y_train)"
      ],
      "metadata": {
        "colab": {
          "base_uri": "https://localhost:8080/"
        },
        "id": "q3JDyToG1dR8",
        "outputId": "ebe4dac8-a689-4df8-ac1f-3ef77f8d4327"
      },
      "execution_count": null,
      "outputs": [
        {
          "output_type": "execute_result",
          "data": {
            "text/plain": [
              "DecisionTreeClassifier(criterion='entropy', max_depth=10)"
            ]
          },
          "metadata": {},
          "execution_count": 98
        }
      ]
    },
    {
      "cell_type": "code",
      "source": [
        "#Testing the model\n",
        "predictions = decision_tree.predict(d2_X_test)"
      ],
      "metadata": {
        "id": "ps4ugVcG1hQU"
      },
      "execution_count": null,
      "outputs": []
    },
    {
      "cell_type": "code",
      "source": [
        "#Plotting the confusion matrix\n",
        "plot_confusion_matrix(decision_tree, d2_X_test, y_test)  \n",
        "plt.show()"
      ],
      "metadata": {
        "colab": {
          "base_uri": "https://localhost:8080/",
          "height": 334
        },
        "id": "bbYdl2eX11Bi",
        "outputId": "5667c60e-4cb2-4314-98a4-f1e838d4aee9"
      },
      "execution_count": null,
      "outputs": [
        {
          "output_type": "stream",
          "name": "stderr",
          "text": [
            "/usr/local/lib/python3.7/dist-packages/sklearn/utils/deprecation.py:87: FutureWarning: Function plot_confusion_matrix is deprecated; Function `plot_confusion_matrix` is deprecated in 1.0 and will be removed in 1.2. Use one of the class methods: ConfusionMatrixDisplay.from_predictions or ConfusionMatrixDisplay.from_estimator.\n",
            "  warnings.warn(msg, category=FutureWarning)\n"
          ]
        },
        {
          "output_type": "display_data",
          "data": {
            "text/plain": [
              "<Figure size 432x288 with 2 Axes>"
            ],
            "image/png": "[encoded data removed]"
          },
          "metadata": {
            "needs_background": "light"
          }
        }
      ]
    },
    {
      "cell_type": "code",
      "source": [
        "f1_score_ = f1_score(y_test, predictions, average = \"micro\")\n",
        "f1_score_"
      ],
      "metadata": {
        "colab": {
          "base_uri": "https://localhost:8080/"
        },
        "id": "3UgUiQOh12nc",
        "outputId": "ba4b6125-1181-40a2-c84c-ef92aae29bf1"
      },
      "execution_count": null,
      "outputs": [
        {
          "output_type": "execute_result",
          "data": {
            "text/plain": [
              "0.8727"
            ]
          },
          "metadata": {},
          "execution_count": 103
        }
      ]
    },
    {
      "cell_type": "code",
      "source": [
        "#Calculating RMSE for linear regression\n",
        "rmse = mean_squared_error(y_test, predictions,squared=False)\n",
        "rmse "
      ],
      "metadata": {
        "colab": {
          "base_uri": "https://localhost:8080/"
        },
        "id": "sYi7hVu62AhF",
        "outputId": "d1fc2a1e-fb09-4731-f902-c90ab98bea2d"
      },
      "execution_count": null,
      "outputs": [
        {
          "output_type": "execute_result",
          "data": {
            "text/plain": [
              "1.4552662986546483"
            ]
          },
          "metadata": {},
          "execution_count": 104
        }
      ]
    },
    {
      "cell_type": "code",
      "source": [
        "pick_insert = open('drive/My Drive/decision_tree.pickle','wb')\n",
        "pickle.dump(decision_tree, pick_insert)\n",
        "pick_insert.close()"
      ],
      "metadata": {
        "id": "AmmI82JW2Chh"
      },
      "execution_count": null,
      "outputs": []
    },
    {
      "cell_type": "code",
      "source": [],
      "metadata": {
        "id": "ajDflMRs2HTx"
      },
      "execution_count": null,
      "outputs": []
    },
    {
      "cell_type": "markdown",
      "source": [
        "## Seeing the results with already trained models in pickle files"
      ],
      "metadata": {
        "id": "zrZhz6sAtbws"
      }
    },
    {
      "cell_type": "code",
      "source": [
        "import pickle\n",
        "from google.colab import drive\n",
        "drive.mount('/content/drive')\n"
      ],
      "metadata": {
        "colab": {
          "base_uri": "https://localhost:8080/"
        },
        "id": "0nXN9WP4tk19",
        "outputId": "7e2f9a20-8970-4cd2-8fdf-29c0168da828"
      },
      "execution_count": 11,
      "outputs": [
        {
          "output_type": "stream",
          "name": "stdout",
          "text": [
            "Drive already mounted at /content/drive; to attempt to forcibly remount, call drive.mount(\"/content/drive\", force_remount=True).\n"
          ]
        }
      ]
    },
    {
      "cell_type": "markdown",
      "source": [
        "## Reading all the pickle models form drive"
      ],
      "metadata": {
        "id": "7Aki0C109jhd"
      }
    },
    {
      "cell_type": "code",
      "source": [],
      "metadata": {
        "id": "pShrefP89anM"
      },
      "execution_count": null,
      "outputs": []
    },
    {
      "cell_type": "code",
      "source": [
        "logistic_regr = open(\"/content/drive/MyDrive/logistic_regr.pickle\",\"rb\")\n",
        "logistic_regr = pickle.load(logistic_regr)"
      ],
      "metadata": {
        "id": "bNKNmK2gtssh"
      },
      "execution_count": 12,
      "outputs": []
    },
    {
      "cell_type": "code",
      "source": [
        "logistic_regr_l1 = open(\"/content/drive/MyDrive/logistic_regr_l1.pickle\",\"rb\")\n",
        "logistic_regr_l1 = pickle.load(logistic_regr_l1)"
      ],
      "metadata": {
        "id": "33hyBM3nup7I"
      },
      "execution_count": 13,
      "outputs": []
    },
    {
      "cell_type": "code",
      "source": [
        "logistic_regr_l2 = open(\"/content/drive/MyDrive/logistic_regr_l2.pickle\",\"rb\")\n",
        "logistic_regr_l2 = pickle.load(logistic_regr_l2)"
      ],
      "metadata": {
        "id": "yr7UtYLavJ8a"
      },
      "execution_count": 14,
      "outputs": []
    },
    {
      "cell_type": "code",
      "source": [
        "linear_svc_l1 = open(\"/content/drive/MyDrive/linear_svc_l1.pickle\",\"rb\")\n",
        "linear_svc_l1 = pickle.load(linear_svc_l1)"
      ],
      "metadata": {
        "id": "OEWqHeGHvMi6"
      },
      "execution_count": 15,
      "outputs": []
    },
    {
      "cell_type": "code",
      "source": [
        "linear_svc_l2 = open(\"/content/drive/MyDrive/linear_svc_l2.pickle\",\"rb\")\n",
        "linear_svc_l2 = pickle.load(linear_svc_l2)"
      ],
      "metadata": {
        "id": "VHS3CyjJvWpZ"
      },
      "execution_count": 16,
      "outputs": []
    },
    {
      "cell_type": "code",
      "source": [
        "linear_regr_ridge_classifier = open(\"/content/drive/MyDrive/linear_regr_ridge_classifier.pickle\",\"rb\")\n",
        "linear_regr_ridge_classifier = pickle.load(linear_regr_ridge_classifier)"
      ],
      "metadata": {
        "id": "b8bosmRGva1Q"
      },
      "execution_count": 28,
      "outputs": []
    },
    {
      "cell_type": "code",
      "source": [
        "decision_tree = open(\"/content/drive/MyDrive/decision_tree.pickle\",\"rb\")\n",
        "decision_tree = pickle.load(decision_tree)"
      ],
      "metadata": {
        "id": "NFT10CsZvhNK"
      },
      "execution_count": 17,
      "outputs": []
    },
    {
      "cell_type": "markdown",
      "source": [
        "## Result Dictionary"
      ],
      "metadata": {
        "id": "bedfmYumvvVy"
      }
    },
    {
      "cell_type": "code",
      "source": [
        "#Making empty dictionary to store results\n",
        "results_dict = {\n",
        "    'model_name':[],\n",
        "    'train_or_test':[],\n",
        "    'f1_score':[],\n",
        "    'rmse':[]\n",
        "}"
      ],
      "metadata": {
        "id": "J9tpANTBvq0F"
      },
      "execution_count": 39,
      "outputs": []
    },
    {
      "cell_type": "code",
      "source": [
        "#Making list of trained models to iterate over all models\n",
        "trained_models = [logistic_regr, logistic_regr_l1, logistic_regr_l2, linear_svc_l1, linear_svc_l2, linear_regr_ridge_classifier,decision_tree]"
      ],
      "metadata": {
        "id": "qfV-qH0Twfim"
      },
      "execution_count": 29,
      "outputs": []
    },
    {
      "cell_type": "code",
      "source": [
        "#Making list of name of models\n",
        "trained_models_names = ['logistic_regr', 'logistic_regr_l1', 'logistic_regr_l2', 'linear_svc_l1', 'linear_svc_l2', 'linear_regr_ridge_classifier','decision_tree']"
      ],
      "metadata": {
        "id": "FrMstdiq8uNo"
      },
      "execution_count": 38,
      "outputs": []
    },
    {
      "cell_type": "code",
      "source": [
        "for model,model_name in zip(trained_models,trained_models_names):\n",
        "  #calculating matrics like f1 score and rmse score for train and test\n",
        "  predictions_train = model.predict(d2_X_train)\n",
        "  f1_score_train= round(f1_score(y_train, predictions_train, average = \"micro\"),3)\n",
        "  rmse_train = round(mean_squared_error(y_train, predictions_train,squared=False),3)\n",
        "\n",
        "  predictions_test = model.predict(d2_X_test)\n",
        "  f1_score_test= round(f1_score(y_test, predictions_test, average = \"micro\"),3)\n",
        "  rmse_test = round(mean_squared_error(y_test, predictions_test,squared=False),3)\n",
        "\n",
        "  #Appending the results into dictionary\n",
        "  results_dict['model_name'].append(model_name)\n",
        "  results_dict['train_or_test'].append('train')\n",
        "  results_dict['f1_score'].append(f1_score_train)\n",
        "  results_dict['rmse'].append(rmse_train)\n",
        "\n",
        "  results_dict['model_name'].append(model_name)\n",
        "  results_dict['train_or_test'].append('test')\n",
        "  results_dict['f1_score'].append(f1_score_test)\n",
        "  results_dict['rmse'].append(rmse_test)"
      ],
      "metadata": {
        "id": "9z79CbDE6HRv"
      },
      "execution_count": 41,
      "outputs": []
    },
    {
      "cell_type": "code",
      "source": [
        "#Converting the dictionary into pandas\n",
        "results = pd.DataFrame(results_dict)\n",
        "print(results)"
      ],
      "metadata": {
        "colab": {
          "base_uri": "https://localhost:8080/"
        },
        "id": "-aHGSwyo6ItX",
        "outputId": "4483a50c-523e-4646-939e-27918e163320"
      },
      "execution_count": 43,
      "outputs": [
        {
          "output_type": "stream",
          "name": "stdout",
          "text": [
            "                      model_name train_or_test  f1_score   rmse\n",
            "0                  logistic_regr         train     0.940  1.007\n",
            "1                  logistic_regr          test     0.926  1.119\n",
            "2               logistic_regr_l1         train     0.937  1.032\n",
            "3               logistic_regr_l1          test     0.927  1.131\n",
            "4               logistic_regr_l2         train     0.939  1.018\n",
            "5               logistic_regr_l2          test     0.926  1.126\n",
            "6                  linear_svc_l1         train     0.926  1.125\n",
            "7                  linear_svc_l1          test     0.918  1.185\n",
            "8                  linear_svc_l2         train     0.926  1.121\n",
            "9                  linear_svc_l2          test     0.918  1.178\n",
            "10  linear_regr_ridge_classifier         train     0.857  1.590\n",
            "11  linear_regr_ridge_classifier          test     0.860  1.559\n",
            "12                 decision_tree         train     0.912  1.223\n",
            "13                 decision_tree          test     0.873  1.455\n"
          ]
        }
      ]
    },
    {
      "cell_type": "code",
      "source": [
        "results"
      ],
      "metadata": {
        "colab": {
          "base_uri": "https://localhost:8080/",
          "height": 488
        },
        "id": "uZFMSvOB7A1S",
        "outputId": "8debd0ba-baa1-4e10-8ddf-fb90654a2e35"
      },
      "execution_count": 44,
      "outputs": [
        {
          "output_type": "execute_result",
          "data": {
            "text/plain": [
              "                      model_name train_or_test  f1_score   rmse\n",
              "0                  logistic_regr         train     0.940  1.007\n",
              "1                  logistic_regr          test     0.926  1.119\n",
              "2               logistic_regr_l1         train     0.937  1.032\n",
              "3               logistic_regr_l1          test     0.927  1.131\n",
              "4               logistic_regr_l2         train     0.939  1.018\n",
              "5               logistic_regr_l2          test     0.926  1.126\n",
              "6                  linear_svc_l1         train     0.926  1.125\n",
              "7                  linear_svc_l1          test     0.918  1.185\n",
              "8                  linear_svc_l2         train     0.926  1.121\n",
              "9                  linear_svc_l2          test     0.918  1.178\n",
              "10  linear_regr_ridge_classifier         train     0.857  1.590\n",
              "11  linear_regr_ridge_classifier          test     0.860  1.559\n",
              "12                 decision_tree         train     0.912  1.223\n",
              "13                 decision_tree          test     0.873  1.455"
            ],
            "text/html": [
              "\n",
              "  <div id=\"df-ace2cf04-a32f-4768-897c-c857de3fc49c\">\n",
              "    <div class=\"colab-df-container\">\n",
              "      <div>\n",
              "<style scoped>\n",
              "    .dataframe tbody tr th:only-of-type {\n",
              "        vertical-align: middle;\n",
              "    }\n",
              "\n",
              "    .dataframe tbody tr th {\n",
              "        vertical-align: top;\n",
              "    }\n",
              "\n",
              "    .dataframe thead th {\n",
              "        text-align: right;\n",
              "    }\n",
              "</style>\n",
              "<table border=\"1\" class=\"dataframe\">\n",
              "  <thead>\n",
              "    <tr style=\"text-align: right;\">\n",
              "      <th></th>\n",
              "      <th>model_name</th>\n",
              "      <th>train_or_test</th>\n",
              "      <th>f1_score</th>\n",
              "      <th>rmse</th>\n",
              "    </tr>\n",
              "  </thead>\n",
              "  <tbody>\n",
              "    <tr>\n",
              "      <th>0</th>\n",
              "      <td>logistic_regr</td>\n",
              "      <td>train</td>\n",
              "      <td>0.940</td>\n",
              "      <td>1.007</td>\n",
              "    </tr>\n",
              "    <tr>\n",
              "      <th>1</th>\n",
              "      <td>logistic_regr</td>\n",
              "      <td>test</td>\n",
              "      <td>0.926</td>\n",
              "      <td>1.119</td>\n",
              "    </tr>\n",
              "    <tr>\n",
              "      <th>2</th>\n",
              "      <td>logistic_regr_l1</td>\n",
              "      <td>train</td>\n",
              "      <td>0.937</td>\n",
              "      <td>1.032</td>\n",
              "    </tr>\n",
              "    <tr>\n",
              "      <th>3</th>\n",
              "      <td>logistic_regr_l1</td>\n",
              "      <td>test</td>\n",
              "      <td>0.927</td>\n",
              "      <td>1.131</td>\n",
              "    </tr>\n",
              "    <tr>\n",
              "      <th>4</th>\n",
              "      <td>logistic_regr_l2</td>\n",
              "      <td>train</td>\n",
              "      <td>0.939</td>\n",
              "      <td>1.018</td>\n",
              "    </tr>\n",
              "    <tr>\n",
              "      <th>5</th>\n",
              "      <td>logistic_regr_l2</td>\n",
              "      <td>test</td>\n",
              "      <td>0.926</td>\n",
              "      <td>1.126</td>\n",
              "    </tr>\n",
              "    <tr>\n",
              "      <th>6</th>\n",
              "      <td>linear_svc_l1</td>\n",
              "      <td>train</td>\n",
              "      <td>0.926</td>\n",
              "      <td>1.125</td>\n",
              "    </tr>\n",
              "    <tr>\n",
              "      <th>7</th>\n",
              "      <td>linear_svc_l1</td>\n",
              "      <td>test</td>\n",
              "      <td>0.918</td>\n",
              "      <td>1.185</td>\n",
              "    </tr>\n",
              "    <tr>\n",
              "      <th>8</th>\n",
              "      <td>linear_svc_l2</td>\n",
              "      <td>train</td>\n",
              "      <td>0.926</td>\n",
              "      <td>1.121</td>\n",
              "    </tr>\n",
              "    <tr>\n",
              "      <th>9</th>\n",
              "      <td>linear_svc_l2</td>\n",
              "      <td>test</td>\n",
              "      <td>0.918</td>\n",
              "      <td>1.178</td>\n",
              "    </tr>\n",
              "    <tr>\n",
              "      <th>10</th>\n",
              "      <td>linear_regr_ridge_classifier</td>\n",
              "      <td>train</td>\n",
              "      <td>0.857</td>\n",
              "      <td>1.590</td>\n",
              "    </tr>\n",
              "    <tr>\n",
              "      <th>11</th>\n",
              "      <td>linear_regr_ridge_classifier</td>\n",
              "      <td>test</td>\n",
              "      <td>0.860</td>\n",
              "      <td>1.559</td>\n",
              "    </tr>\n",
              "    <tr>\n",
              "      <th>12</th>\n",
              "      <td>decision_tree</td>\n",
              "      <td>train</td>\n",
              "      <td>0.912</td>\n",
              "      <td>1.223</td>\n",
              "    </tr>\n",
              "    <tr>\n",
              "      <th>13</th>\n",
              "      <td>decision_tree</td>\n",
              "      <td>test</td>\n",
              "      <td>0.873</td>\n",
              "      <td>1.455</td>\n",
              "    </tr>\n",
              "  </tbody>\n",
              "</table>\n",
              "</div>\n",
              "      <button class=\"colab-df-convert\" onclick=\"convertToInteractive('df-ace2cf04-a32f-4768-897c-c857de3fc49c')\"\n",
              "              title=\"Convert this dataframe to an interactive table.\"\n",
              "              style=\"display:none;\">\n",
              "        \n",
              "  <svg xmlns=\"http://www.w3.org/2000/svg\" height=\"24px\"viewBox=\"0 0 24 24\"\n",
              "       width=\"24px\">\n",
              "    <path d=\"M0 0h24v24H0V0z\" fill=\"none\"/>\n",
              "    <path d=\"M18.56 5.44l.94 2.06.94-2.06 2.06-.94-2.06-.94-.94-2.06-.94 2.06-2.06.94zm-11 1L8.5 8.5l.94-2.06 2.06-.94-2.06-.94L8.5 2.5l-.94 2.06-2.06.94zm10 10l.94 2.06.94-2.06 2.06-.94-2.06-.94-.94-2.06-.94 2.06-2.06.94z\"/><path d=\"M17.41 7.96l-1.37-1.37c-.4-.4-.92-.59-1.43-.59-.52 0-1.04.2-1.43.59L10.3 9.45l-7.72 7.72c-.78.78-.78 2.05 0 2.83L4 21.41c.39.39.9.59 1.41.59.51 0 1.02-.2 1.41-.59l7.78-7.78 2.81-2.81c.8-.78.8-2.07 0-2.86zM5.41 20L4 18.59l7.72-7.72 1.47 1.35L5.41 20z\"/>\n",
              "  </svg>\n",
              "      </button>\n",
              "      \n",
              "  <style>\n",
              "    .colab-df-container {\n",
              "      display:flex;\n",
              "      flex-wrap:wrap;\n",
              "      gap: 12px;\n",
              "    }\n",
              "\n",
              "    .colab-df-convert {\n",
              "      background-color: #E8F0FE;\n",
              "      border: none;\n",
              "      border-radius: 50%;\n",
              "      cursor: pointer;\n",
              "      display: none;\n",
              "      fill: #1967D2;\n",
              "      height: 32px;\n",
              "      padding: 0 0 0 0;\n",
              "      width: 32px;\n",
              "    }\n",
              "\n",
              "    .colab-df-convert:hover {\n",
              "      background-color: #E2EBFA;\n",
              "      box-shadow: 0px 1px 2px rgba(60, 64, 67, 0.3), 0px 1px 3px 1px rgba(60, 64, 67, 0.15);\n",
              "      fill: #174EA6;\n",
              "    }\n",
              "\n",
              "    [theme=dark] .colab-df-convert {\n",
              "      background-color: #3B4455;\n",
              "      fill: #D2E3FC;\n",
              "    }\n",
              "\n",
              "    [theme=dark] .colab-df-convert:hover {\n",
              "      background-color: #434B5C;\n",
              "      box-shadow: 0px 1px 3px 1px rgba(0, 0, 0, 0.15);\n",
              "      filter: drop-shadow(0px 1px 2px rgba(0, 0, 0, 0.3));\n",
              "      fill: #FFFFFF;\n",
              "    }\n",
              "  </style>\n",
              "\n",
              "      <script>\n",
              "        const buttonEl =\n",
              "          document.querySelector('#df-ace2cf04-a32f-4768-897c-c857de3fc49c button.colab-df-convert');\n",
              "        buttonEl.style.display =\n",
              "          google.colab.kernel.accessAllowed ? 'block' : 'none';\n",
              "\n",
              "        async function convertToInteractive(key) {\n",
              "          const element = document.querySelector('#df-ace2cf04-a32f-4768-897c-c857de3fc49c');\n",
              "          const dataTable =\n",
              "            await google.colab.kernel.invokeFunction('convertToInteractive',\n",
              "                                                     [key], {});\n",
              "          if (!dataTable) return;\n",
              "\n",
              "          const docLinkHtml = 'Like what you see? Visit the ' +\n",
              "            '<a target=\"_blank\" href=https://colab.research.google.com/notebooks/data_table.ipynb>data table notebook</a>'\n",
              "            + ' to learn more about interactive tables.';\n",
              "          element.innerHTML = '';\n",
              "          dataTable['output_type'] = 'display_data';\n",
              "          await google.colab.output.renderOutput(dataTable, element);\n",
              "          const docLink = document.createElement('div');\n",
              "          docLink.innerHTML = docLinkHtml;\n",
              "          element.appendChild(docLink);\n",
              "        }\n",
              "      </script>\n",
              "    </div>\n",
              "  </div>\n",
              "  "
            ]
          },
          "metadata": {},
          "execution_count": 44
        }
      ]
    },
    {
      "cell_type": "code",
      "source": [],
      "metadata": {
        "id": "GkGxpbNv7fVp"
      },
      "execution_count": null,
      "outputs": []
    }
  ]
}